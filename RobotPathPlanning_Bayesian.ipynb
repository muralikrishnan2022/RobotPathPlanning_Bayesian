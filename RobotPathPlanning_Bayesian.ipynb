{
  "nbformat": 4,
  "nbformat_minor": 0,
  "metadata": {
    "colab": {
      "provenance": [],
      "include_colab_link": true
    },
    "kernelspec": {
      "name": "python3",
      "display_name": "Python 3"
    },
    "language_info": {
      "name": "python"
    },
    "accelerator": "TPU"
  },
  "cells": [
    {
      "cell_type": "markdown",
      "metadata": {
        "id": "view-in-github",
        "colab_type": "text"
      },
      "source": [
        "<a href=\"https://colab.research.google.com/github/muralikrishnan2022/MACHINE-AND-DEEP-LEARNING-PROJECTS/blob/main/PHY1901_PROJECT.ipynb\" target=\"_parent\"><img src=\"https://colab.research.google.com/assets/colab-badge.svg\" alt=\"Open In Colab\"/></a>"
      ]
    },
    {
      "cell_type": "code",
      "source": [
        "# Step 1: Import necessary libraries\n",
        "!pip install scikit-optimize\n",
        "import numpy as np\n",
        "from skopt import gp_minimize\n",
        "import matplotlib.pyplot as plt\n",
        "from matplotlib.colors import LogNorm\n",
        "from scipy.spatial.distance import cdist\n",
        "from heapq import heappush, heappop"
      ],
      "metadata": {
        "id": "Vcvvkk8Qsmkp",
        "colab": {
          "base_uri": "https://localhost:8080/"
        },
        "outputId": "72a75caf-8167-4557-8803-dd9f9b5b93b8"
      },
      "execution_count": null,
      "outputs": [
        {
          "output_type": "stream",
          "name": "stdout",
          "text": [
            "Collecting scikit-optimize\n",
            "  Downloading scikit_optimize-0.9.0-py2.py3-none-any.whl (100 kB)\n",
            "\u001b[?25l     \u001b[90m━━━━━━━━━━━━━━━━━━━━━━━━━━━━━━━━━━━━━━━━\u001b[0m \u001b[32m0.0/100.3 kB\u001b[0m \u001b[31m?\u001b[0m eta \u001b[36m-:--:--\u001b[0m\r\u001b[2K     \u001b[91m━━━━━━━━━━━━━━━━━━━━━━━━━━━━━━━━━━━━\u001b[0m\u001b[91m╸\u001b[0m\u001b[90m━━━\u001b[0m \u001b[32m92.2/100.3 kB\u001b[0m \u001b[31m3.0 MB/s\u001b[0m eta \u001b[36m0:00:01\u001b[0m\r\u001b[2K     \u001b[90m━━━━━━━━━━━━━━━━━━━━━━━━━━━━━━━━━━━━━━━━\u001b[0m \u001b[32m100.3/100.3 kB\u001b[0m \u001b[31m2.5 MB/s\u001b[0m eta \u001b[36m0:00:00\u001b[0m\n",
            "\u001b[?25hRequirement already satisfied: joblib>=0.11 in /usr/local/lib/python3.10/dist-packages (from scikit-optimize) (1.3.2)\n",
            "Collecting pyaml>=16.9 (from scikit-optimize)\n",
            "  Downloading pyaml-23.9.7-py3-none-any.whl (23 kB)\n",
            "Requirement already satisfied: numpy>=1.13.3 in /usr/local/lib/python3.10/dist-packages (from scikit-optimize) (1.23.5)\n",
            "Requirement already satisfied: scipy>=0.19.1 in /usr/local/lib/python3.10/dist-packages (from scikit-optimize) (1.11.3)\n",
            "Requirement already satisfied: scikit-learn>=0.20.0 in /usr/local/lib/python3.10/dist-packages (from scikit-optimize) (1.2.2)\n",
            "Requirement already satisfied: PyYAML in /usr/local/lib/python3.10/dist-packages (from pyaml>=16.9->scikit-optimize) (6.0.1)\n",
            "Requirement already satisfied: threadpoolctl>=2.0.0 in /usr/local/lib/python3.10/dist-packages (from scikit-learn>=0.20.0->scikit-optimize) (3.2.0)\n",
            "Installing collected packages: pyaml, scikit-optimize\n",
            "Successfully installed pyaml-23.9.7 scikit-optimize-0.9.0\n"
          ]
        }
      ]
    },
    {
      "cell_type": "markdown",
      "source": [
        "In this step, we import the necessary libraries for the robotic path planning project. Let's break down the code:\n",
        "\n",
        "1. **Library Installation:**\n",
        "   - We use the `!pip install scikit-optimize` command to install the `scikit-optimize` library, which is used for Gaussian Process Optimization (Bayesian optimization).\n",
        "\n",
        "2. **Library Import:**\n",
        "   - After installing the library, we import the required modules for the project:\n",
        "     - `numpy`: A powerful library for numerical operations in Python.\n",
        "     - `skopt.gp_minimize`: A function from the `scikit-optimize` library used for Gaussian Process Optimization.\n",
        "     - `matplotlib.pyplot`: A widely-used library for creating visualizations in Python.\n",
        "     - `matplotlib.colors.LogNorm`: Logarithmic normalization for better visualization of colors in plots.\n",
        "     - `scipy.spatial.distance.cdist`: Computes distance between each pair of two collections of inputs.\n",
        "     - `heapq.heappush` and `heapq.heappop`: Functions for heap queue algorithm implementation. In this context, they might be used for priority queue operations.\n",
        "\n",
        "These libraries are crucial for performing optimization, visualization, and other operations in the subsequent steps of the robotic path planning project."
      ],
      "metadata": {
        "id": "QfOm-jL1ZHM2"
      }
    },
    {
      "cell_type": "code",
      "source": [
        "# Function to get user input for start and goal positions\n",
        "def get_user_input(prompt):\n",
        "    return tuple(map(int, input(prompt).split()))"
      ],
      "metadata": {
        "id": "Fhl3ORn_wBkF"
      },
      "execution_count": null,
      "outputs": []
    },
    {
      "cell_type": "markdown",
      "source": [
        "The function get_user_input is designed to facilitate user interaction by prompting the user to input start and goal positions in the form of tuples. Here's a breakdown of its functionality:\n",
        "\n",
        "A tuple of integers representing the user-specified start or goal positions.\n",
        "\n",
        "The function uses the input function to get user input based on the provided prompt. The user is expected to enter space-separated values, and split() is used to separate these values into a list.\n",
        "\n",
        "map(int, ...) is used to convert each element of the list to an integer.\n",
        "\n",
        "The resulting values are then packed into a tuple and returned.\n",
        "\n",
        "This function streamlines the process of obtaining user input for start and goal positions, enhancing the overall user experience in the path planning project.\n",
        "\n",
        "\n"
      ],
      "metadata": {
        "id": "680ZWlXZaei8"
      }
    },
    {
      "cell_type": "code",
      "source": [
        "# Step 2: Ask user for input and Define the environment and problem\n",
        "rows = int(input(\"Enter the number of rows in the environment: \"))\n",
        "cols = int(input(\"Enter the number of columns in the environment: \"))\n",
        "start = get_user_input(\"Enter the start position (row col): \")\n",
        "goal = get_user_input(\"Enter the goal position (row col): \")\n",
        "num_waypoints = int(input(\"Enter the number of waypoints: \"))\n",
        "\n",
        "cost_map = np.random.rand(rows, cols)"
      ],
      "metadata": {
        "colab": {
          "base_uri": "https://localhost:8080/"
        },
        "id": "OksHAuNxsvKT",
        "outputId": "b3ed7ed5-c567-47af-a3ba-02d6c06fee88"
      },
      "execution_count": null,
      "outputs": [
        {
          "name": "stdout",
          "output_type": "stream",
          "text": [
            "Enter the number of rows in the environment: 5\n",
            "Enter the number of columns in the environment: 5\n",
            "Enter the start position (row col): 0 0\n",
            "Enter the goal position (row col): 4 4\n",
            "Enter the number of waypoints: 3\n"
          ]
        }
      ]
    },
    {
      "cell_type": "markdown",
      "source": [
        "In this step, we gather user input to define the environment and problem parameters for the robotic path planning. Let's break down the code:\n",
        "\n",
        "1. **Input from User:**\n",
        "   - The user is prompted to enter the number of rows and columns in the environment, providing the dimensions of the grid.\n",
        "   - The user is asked to input the start and goal positions, each represented as a tuple of (row, col).\n",
        "   - Additionally, the user specifies the number of waypoints for the path.\n",
        "\n",
        "2. **Random Cost Map Generation:**\n",
        "   - We generate a random cost map using NumPy (`np.random.rand(rows, cols)`). Each cell in the grid is assigned a random cost value.\n",
        "\n",
        "**User Input:**\n",
        "- Number of rows in the environment: `{rows}`\n",
        "- Number of columns in the environment: `{cols}`\n",
        "- Start position: `{start}`\n",
        "- Goal position: `{goal}`\n",
        "- Number of waypoints: `{num_waypoints}`\n",
        "\n",
        "**Generated Cost Map:**\n",
        "- A random cost map of dimensions `{rows} x {cols}` has been created, with each cell containing a random cost value.\n",
        "\n",
        "This step sets up the initial parameters and environment for the path planning algorithm in the subsequent sections of the project."
      ],
      "metadata": {
        "id": "UjzcC8AcbcRK"
      }
    },
    {
      "cell_type": "code",
      "source": [
        "# Step 3: Define the cost function\n",
        "def cost_function(path):\n",
        "    return np.sum(cost_map[path[:, 0], path[:, 1]])"
      ],
      "metadata": {
        "id": "h3CEtEyIsyB4"
      },
      "execution_count": null,
      "outputs": []
    },
    {
      "cell_type": "markdown",
      "source": [
        "In this step, we define the cost function that will be used to evaluate the cost of a given path in the environment. Let's break down the code:\n",
        "\n",
        "1. **Function Definition:**\n",
        "   - The function `cost_function` takes a path as input.\n",
        "   - The path is represented as a NumPy array where each row corresponds to a (row, col) coordinate in the environment grid.\n",
        "\n",
        "2. **Cost Calculation:**\n",
        "   - The cost of the path is calculated by summing up the cost values from the randomly generated cost map.\n",
        "   - The cost map is accessed using the path coordinates (`path[:, 0]` for rows and `path[:, 1]` for columns).\n",
        "\n",
        "3. **Output:**\n",
        "   - The function returns the total cost of the given path.\n",
        "\n",
        "This cost function will be used in the optimization process to evaluate the fitness of different paths based on their associated costs in the environment."
      ],
      "metadata": {
        "id": "0IOO9OZXbuqV"
      }
    },
    {
      "cell_type": "code",
      "source": [
        "# Step 4: Define the optimization bounds based on the number of waypoints\n",
        "bounds = [(0, rows - 1), (0, cols - 1)] * num_waypoints"
      ],
      "metadata": {
        "id": "_5_A0PL7s3FT"
      },
      "execution_count": null,
      "outputs": []
    },
    {
      "cell_type": "markdown",
      "source": [
        "In this step, we establish the optimization bounds to constrain the search space for the Bayesian optimization. Let's break down the code:\n",
        "\n",
        "1. **Bounds Definition:**\n",
        "   - The variable `bounds` is a list of tuples, where each tuple represents the bounds for a single waypoint.\n",
        "   - For each waypoint, the bounds are specified as `(0, rows - 1)` for the row coordinate and `(0, cols - 1)` for the column coordinate.\n",
        "\n",
        "2. **Number of Waypoints Impact:**\n",
        "   - The number of waypoints (`num_waypoints`) specified by the user influences the size of the `bounds` list. Each waypoint contributes two tuples (one for the row and one for the column).\n",
        "\n",
        "3. **Search Space Constraints:**\n",
        "   - These bounds will restrict the Bayesian optimization to search for optimal paths within the specified grid coordinates for each waypoint.\n",
        "\n",
        "This step prepares the search space for Bayesian optimization, ensuring that the algorithm explores feasible paths within the given environment."
      ],
      "metadata": {
        "id": "vfSynrHTb4pD"
      }
    },
    {
      "cell_type": "code",
      "source": [
        "# Step 5: Define Dijkstra's Algorithm for path planning\n",
        "def dijkstra(start, goal, cost_map):\n",
        "    rows, cols = cost_map.shape\n",
        "    visited = np.zeros((rows, cols), dtype=bool)\n",
        "    distances = np.inf * np.ones((rows, cols))\n",
        "    predecessors = np.zeros((rows, cols, 2), dtype=int)  # Store predecessor coordinates\n",
        "\n",
        "    distances[start[0], start[1]] = 0\n",
        "\n",
        "    priority_queue = [(0, start)]\n",
        "\n",
        "    while priority_queue:\n",
        "        current_distance, current = heappop(priority_queue)\n",
        "\n",
        "        if visited[current[0], current[1]]:\n",
        "            continue\n",
        "\n",
        "        visited[current[0], current[1]] = True\n",
        "\n",
        "        neighbors = [(current[0] + i, current[1] + j) for i, j in [(1, 0), (-1, 0), (0, 1), (0, -1)]]\n",
        "        for neighbor in neighbors:\n",
        "            if 0 <= neighbor[0] < rows and 0 <= neighbor[1] < cols:\n",
        "                new_distance = current_distance + cost_map[neighbor[0], neighbor[1]]\n",
        "\n",
        "                if new_distance < distances[neighbor[0], neighbor[1]]:\n",
        "                    distances[neighbor[0], neighbor[1]] = new_distance\n",
        "                    predecessors[neighbor[0], neighbor[1]] = current[0], current[1]\n",
        "\n",
        "                    heappush(priority_queue, (new_distance, neighbor))\n",
        "\n",
        "    # Reconstruct the optimal path\n",
        "    path = []\n",
        "    current = goal\n",
        "    while current != start:\n",
        "        path.append(current)\n",
        "        current = tuple(predecessors[current[0], current[1]])\n",
        "\n",
        "    path.append(start)\n",
        "    return np.array(path[::-1])"
      ],
      "metadata": {
        "id": "7G8adwwZs7M3"
      },
      "execution_count": null,
      "outputs": []
    },
    {
      "cell_type": "markdown",
      "source": [
        "In this step, we implement Dijkstra's algorithm, a classical path planning algorithm that finds the optimal path between two points in a weighted graph. Let's break down the code:\n",
        "\n",
        "1. **Algorithm Initialization:**\n",
        "   - We initialize data structures such as `visited`, `distances`, and `predecessors` to keep track of visited nodes, current distances, and predecessors for path reconstruction.\n",
        "\n",
        "2. **Priority Queue:**\n",
        "   - We use a priority queue (`heapq`) to efficiently select the node with the minimum distance at each step.\n",
        "\n",
        "3. **Main Loop:**\n",
        "   - The algorithm iterates until the priority queue is empty, exploring neighbors of the current node and updating distances if a shorter path is found.\n",
        "\n",
        "4. **Path Reconstruction:**\n",
        "   - After completing the main loop, we reconstruct the optimal path from the start to the goal by backtracking through the predecessors.\n",
        "\n",
        "5. **Output:**\n",
        "   - The function returns the optimal path as a NumPy array of coordinates.\n",
        "\n",
        "This Dijkstra's algorithm provides a baseline optimal path without considering uncertainties. The result will be used for comparison in the subsequent steps of the robotic path planning project."
      ],
      "metadata": {
        "id": "zmLbdQdGcIuW"
      }
    },
    {
      "cell_type": "code",
      "source": [
        "# Step 6: Run Dijkstra's algorithm to get the optimal path\n",
        "optimal_path_coords = dijkstra(start, goal, cost_map)"
      ],
      "metadata": {
        "id": "1tLWPyV9u7hl"
      },
      "execution_count": null,
      "outputs": []
    },
    {
      "cell_type": "markdown",
      "source": [
        "In this step, we execute Dijkstra's algorithm to obtain the optimal path between the user-specified start and goal positions. Let's break down the code:\n",
        "\n",
        "1. **Function Call:**\n",
        "   - We call the `dijkstra` function with the provided start and goal positions along with the cost map.\n",
        "\n",
        "2. **Algorithm Execution:**\n",
        "   - The algorithm explores the grid using Dijkstra's method, calculating the optimal path based on the cost map and the specified start and goal positions.\n",
        "\n",
        "3. **Result Storage:**\n",
        "   - The resulting optimal path coordinates are stored in the variable `optimal_path_coords`.\n",
        "\n",
        "This optimal path, obtained without considering uncertainties, serves as a baseline for comparison with paths generated in subsequent steps that incorporate Bayesian optimization."
      ],
      "metadata": {
        "id": "vawJr4x7cRsv"
      }
    },
    {
      "cell_type": "code",
      "source": [
        "# Step 7: Perform Bayesian optimization using the optimal path coordinates\n",
        "result = gp_minimize(lambda x: cost_function(np.array(x).reshape(-1, 2)), bounds, n_calls=20, random_state=42)"
      ],
      "metadata": {
        "id": "P1pOUBdHu_j4",
        "colab": {
          "base_uri": "https://localhost:8080/"
        },
        "outputId": "4e6914e8-0664-4e46-ad14-8c8c0065986b"
      },
      "execution_count": null,
      "outputs": [
        {
          "output_type": "stream",
          "name": "stderr",
          "text": [
            "/usr/local/lib/python3.10/dist-packages/skopt/optimizer/optimizer.py:449: UserWarning: The objective has been evaluated at this point before.\n",
            "  warnings.warn(\"The objective has been evaluated \"\n",
            "/usr/local/lib/python3.10/dist-packages/skopt/optimizer/optimizer.py:449: UserWarning: The objective has been evaluated at this point before.\n",
            "  warnings.warn(\"The objective has been evaluated \"\n",
            "/usr/local/lib/python3.10/dist-packages/skopt/optimizer/optimizer.py:449: UserWarning: The objective has been evaluated at this point before.\n",
            "  warnings.warn(\"The objective has been evaluated \"\n"
          ]
        }
      ]
    },
    {
      "cell_type": "markdown",
      "source": [
        "In this step, we utilize Bayesian optimization to refine the optimal path obtained from Dijkstra's algorithm. Let's break down the code:\n",
        "\n",
        "1. **Bayesian Optimization Function (`gp_minimize`):**\n",
        "   - We use the `gp_minimize` function from the `scikit-optimize` library, which performs Bayesian optimization.\n",
        "   - The objective function for optimization is defined as the `cost_function`, taking the path coordinates as input.\n",
        "\n",
        "2. **Input Parameters:**\n",
        "   - `lambda x: cost_function(np.array(x).reshape(-1, 2))`: The lambda function formats the input `x` into a 2D NumPy array and calls the `cost_function` to calculate the cost of the path.\n",
        "   - `bounds`: The optimization bounds established in Step 4.\n",
        "   - `n_calls=20`: The number of optimization calls or iterations. Adjust as needed.\n",
        "   - `random_state=42`: Seed for reproducibility.\n",
        "\n",
        "3. **Optimization Result (`result`):**\n",
        "   - The result of Bayesian optimization, including the optimized path coordinates, is stored in the variable `result`.\n",
        "\n",
        "This step refines the path obtained from Dijkstra's algorithm by considering uncertainties and optimizing the path based on the cost function."
      ],
      "metadata": {
        "id": "tK12TBAecdhK"
      }
    },
    {
      "cell_type": "markdown",
      "source": [],
      "metadata": {
        "id": "KGavnf_rcVfa"
      }
    },
    {
      "cell_type": "code",
      "source": [
        "# Step 8: Extract the optimal path from the Bayesian optimization result\n",
        "optimal_path = np.array(result.x).reshape(-1, 2)"
      ],
      "metadata": {
        "id": "5CQUiHdOvEx-"
      },
      "execution_count": null,
      "outputs": []
    },
    {
      "cell_type": "markdown",
      "source": [
        "In this step, we extract the optimal path obtained from the Bayesian optimization result. Let's break down the code:\n",
        "\n",
        "1. **Optimal Path Extraction:**\n",
        "   - We use NumPy to reshape the optimal path coordinates obtained from the Bayesian optimization result (`result.x`) into a 2D NumPy array.\n",
        "   - The optimal path is stored in the variable `optimal_path`.\n",
        "\n",
        "This step finalizes the path planning process by obtaining the optimized path through Bayesian optimization, taking into account uncertainties in the environment."
      ],
      "metadata": {
        "id": "EhME2f4jciC-"
      }
    },
    {
      "cell_type": "code",
      "source": [
        "import sqlite3\n",
        "\n",
        "# Step 10: Connect to SQLite database\n",
        "db_connection = sqlite3.connect(\"path_planning.db\")\n",
        "cursor = db_connection.cursor()"
      ],
      "metadata": {
        "id": "7oQ0GX5xzYGZ"
      },
      "execution_count": null,
      "outputs": []
    },
    {
      "cell_type": "markdown",
      "source": [
        "In this step, we establish a connection to an SQLite database to store and manage path planning data. Let's break down the code:\n",
        "\n",
        "1. **Library Import:**\n",
        "   - We import the `sqlite3` library, which provides an interface for interacting with SQLite databases.\n",
        "\n",
        "2. **Connection Establishment:**\n",
        "   - We use the `connect` method to establish a connection to an SQLite database file named \"path_planning.db\".\n",
        "   - The `cursor` object is created to execute SQL queries on the connected database.\n",
        "\n",
        "This connection will be used to store and retrieve data related to the path planning project, such as optimal paths and associated information."
      ],
      "metadata": {
        "id": "ZlwWl051cqlh"
      }
    },
    {
      "cell_type": "code",
      "source": [
        "# Step 9: Create a table for storing paths\n",
        "cursor.execute('''CREATE TABLE IF NOT EXISTS paths (\n",
        "                    id INTEGER PRIMARY KEY,\n",
        "                    start_row INTEGER,\n",
        "                    start_col INTEGER,\n",
        "                    goal_row INTEGER,\n",
        "                    goal_col INTEGER,\n",
        "                    path TEXT,\n",
        "                    cost REAL\n",
        "                )''')\n",
        "db_connection.commit()"
      ],
      "metadata": {
        "id": "ifELu1G6zdI9"
      },
      "execution_count": null,
      "outputs": []
    },
    {
      "cell_type": "markdown",
      "source": [
        "In this step, we establish a connection to an SQLite database to store and manage path planning data. Let's break down the code:\n",
        "\n",
        "1. **Library Import:**\n",
        "   - We import the `sqlite3` library, which provides an interface for interacting with SQLite databases.\n",
        "\n",
        "2. **Connection Establishment:**\n",
        "   - We use the `connect` method to establish a connection to an SQLite database file named \"path_planning.db\".\n",
        "   - The `cursor` object is created to execute SQL queries on the connected database.\n",
        "\n",
        "This connection will be used to store and retrieve data related to the path planning project, such as optimal paths and associated information."
      ],
      "metadata": {
        "id": "H5ggZK1Qc1rD"
      }
    },
    {
      "cell_type": "code",
      "source": [
        "# Step 10: Insert the optimal path into the database\n",
        "optimal_path_str = str(optimal_path.tolist())\n",
        "cursor.execute('''INSERT INTO paths (start_row, start_col, goal_row, goal_col, path, cost)\n",
        "                  VALUES (?, ?, ?, ?, ?, ?)''', (start[0], start[1], goal[0], goal[1], optimal_path_str, result.fun))\n",
        "db_connection.commit()"
      ],
      "metadata": {
        "id": "CsA82NuWzhG3"
      },
      "execution_count": null,
      "outputs": []
    },
    {
      "cell_type": "markdown",
      "source": [
        "In this step, we insert the information about the optimal path obtained through Bayesian optimization into the SQLite database. Let's break down the code:\n",
        "\n",
        "1. **Path Conversion to String:**\n",
        "   - We convert the NumPy array `optimal_path` to a string representation using `str(optimal_path.tolist())`.\n",
        "\n",
        "2. **Database Insertion:**\n",
        "   - We use the `execute` method on the `cursor` object to execute an SQL statement that inserts a new row into the \"paths\" table.\n",
        "   - The values inserted include the start and goal positions, the string representation of the optimal path, and the cost of the path obtained from the Bayesian optimization result.\n",
        "\n",
        "3. **Value Binding:**\n",
        "   - Values are bound to the SQL statement using placeholders (`?`) to prevent SQL injection.\n",
        "\n",
        "4. **Database Commit:**\n",
        "   - We commit the changes to the database using `db_connection.commit()`.\n",
        "\n",
        "This step stores information about the optimal path, its associated cost, and other details in the SQLite database for future analysis and retrieval."
      ],
      "metadata": {
        "id": "EgA73SE_dAhO"
      }
    },
    {
      "cell_type": "code",
      "source": [
        "# Step 11: Close the database connection\n",
        "db_connection.close()"
      ],
      "metadata": {
        "id": "josYlknZzlrm"
      },
      "execution_count": null,
      "outputs": []
    },
    {
      "cell_type": "markdown",
      "source": [
        "In this final step, we close the connection to the SQLite database to ensure proper handling of resources. Let's break down the code:\n",
        "\n",
        "1. **Connection Closure:**\n",
        "   - We use the `close` method on the `db_connection` object to close the connection to the SQLite database.\n",
        "\n",
        "2. **Resource Management:**\n",
        "   - Closing the connection is essential for proper resource management and to release any locks or resources held during the database interaction.\n",
        "\n",
        "This step concludes the database interaction and ensures that the connection is properly closed, preventing potential issues and ensuring a clean exit."
      ],
      "metadata": {
        "id": "Hh-T0D3gdJ1g"
      }
    },
    {
      "cell_type": "code",
      "source": [
        "# Step 12: Visualize the optimal path\n",
        "plt.figure(figsize=(8, 8))\n",
        "plt.imshow(cost_map, extent=(0, 10, 0, 10), origin='lower', cmap='viridis', norm=LogNorm())\n",
        "plt.colorbar(label='Cost')\n",
        "plt.plot(optimal_path_coords[:, 1], optimal_path_coords[:, 0], marker='o', color='red', label='Dijkstra\\'s Optimal Path')\n",
        "plt.plot(optimal_path[:, 0], optimal_path[:, 1], marker='o', color='blue', label='Bayesian Optimal Path')\n",
        "plt.scatter(start[1], start[0], marker='s', color='green', label='Start')\n",
        "plt.scatter(goal[1], goal[0], marker='s', color='purple', label='Goal')\n",
        "plt.title('Optimal Path Planning with Bayesian Optimization and Dijkstra\\'s Algorithm')\n",
        "plt.xlabel('X Coordinate')\n",
        "plt.ylabel('Y Coordinate')\n",
        "plt.legend()\n",
        "plt.show()"
      ],
      "metadata": {
        "colab": {
          "base_uri": "https://localhost:8080/",
          "height": 653
        },
        "id": "sVmhTnJRz-S0",
        "outputId": "6619e623-f23a-4921-e8b4-b4474543e2a6"
      },
      "execution_count": null,
      "outputs": [
        {
          "output_type": "display_data",
          "data": {
            "text/plain": [
              "<Figure size 800x800 with 2 Axes>"
            ],
            "image/png": "[encoded data removed]"
          },
          "metadata": {}
        }
      ]
    },
    {
      "cell_type": "markdown",
      "source": [
        "In this step, we visualize the optimal path obtained through both Dijkstra's algorithm and Bayesian optimization. Let's break down the code:\n",
        "\n",
        "1. **Visualization Setup:**\n",
        "   - We create a matplotlib figure with a size of 8x8 for the visualization.\n",
        "\n",
        "2. **Cost Map Display:**\n",
        "   - The cost map is displayed using `imshow` with a colormap ('viridis') and logarithmic normalization.\n",
        "\n",
        "3. **Path Plotting:**\n",
        "   - The optimal paths from Dijkstra's algorithm and Bayesian optimization are plotted using red and blue markers, respectively.\n",
        "   - The start and goal positions are marked with green and purple squares, respectively.\n",
        "\n",
        "4. **Title and Labels:**\n",
        "   - The plot is labeled with a title and axis labels for clarity.\n",
        "\n",
        "5. **Legend:**\n",
        "   - A legend is added to differentiate between Dijkstra's and Bayesian optimal paths, as well as the start and goal positions.\n",
        "\n",
        "6. **Visualization Display:**\n",
        "   - The final visualization is displayed using `plt.show()`.\n",
        "\n",
        "This step provides a visual representation of the optimal paths and key points in the environment, aiding in the interpretation of the path planning results.\n"
      ],
      "metadata": {
        "id": "Kx7pqAe4dXSV"
      }
    },
    {
      "cell_type": "code",
      "source": [
        "import sqlite3\n",
        "\n",
        "# Connect to the SQLite database\n",
        "db_connection = sqlite3.connect(\"path_planning.db\")\n",
        "cursor = db_connection.cursor()\n",
        "\n",
        "# Retrieve paths from the database\n",
        "cursor.execute(\"SELECT * FROM paths\")\n",
        "paths = cursor.fetchall()\n",
        "\n",
        "# Close the database connection\n",
        "db_connection.close()\n",
        "\n",
        "# Display retrieved paths\n",
        "for path in paths:\n",
        "    print(\"Path ID:\", path[0])\n",
        "    print(\"Start Position:\", (path[1], path[2]))\n",
        "    print(\"Goal Position:\", (path[3], path[4]))\n",
        "    print(\"Optimal Path:\", path[5])\n",
        "    print(\"Cost:\", path[6])\n",
        "    print(\"\\n\")"
      ],
      "metadata": {
        "colab": {
          "base_uri": "https://localhost:8080/"
        },
        "id": "_LdGFUrt0JIx",
        "outputId": "61649def-9c34-4070-eb42-9dbdaea0daad"
      },
      "execution_count": null,
      "outputs": [
        {
          "output_type": "stream",
          "name": "stdout",
          "text": [
            "Path ID: 1\n",
            "Start Position: (0, 0)\n",
            "Goal Position: (4, 4)\n",
            "Optimal Path: [[3, 1], [3, 2], [2, 0]]\n",
            "Cost: 0.22098601971690657\n",
            "\n",
            "\n"
          ]
        }
      ]
    },
    {
      "cell_type": "markdown",
      "source": [
        "In this section, we retrieve paths stored in the SQLite database and display the relevant information. Let's break down the code:\n",
        "\n",
        "1. **Connection Establishment:**\n",
        "   - We first connect to the SQLite database using `sqlite3.connect` and create a cursor object for executing SQL queries.\n",
        "\n",
        "2. **Path Retrieval:**\n",
        "   - The `execute` method is used to query the \"paths\" table and retrieve all rows.\n",
        "   - The retrieved paths are stored in the variable `paths`.\n",
        "\n",
        "3. **Connection Closure:**\n",
        "   - After retrieving the data, we close the database connection using `db_connection.close()`.\n",
        "\n",
        "4. **Displaying Paths:**\n",
        "   - We iterate through the retrieved paths and print information for each path, including path ID, start and goal positions, optimal path, and cost.\n",
        "\n",
        "This section provides a glimpse into the paths stored in the database, allowing for analysis and comparison of different path planning results."
      ],
      "metadata": {
        "id": "kqDHmzR-dcWP"
      }
    }
  ]
}